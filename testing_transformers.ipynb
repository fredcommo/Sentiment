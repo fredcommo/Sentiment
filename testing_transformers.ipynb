{
 "cells": [
  {
   "cell_type": "code",
   "execution_count": null,
   "id": "native-commission",
   "metadata": {},
   "outputs": [],
   "source": [
    "# from transformers import (\n",
    "#     TextClassificationPipeline,\n",
    "#     TFAutoModelForSequenceClassification,\n",
    "#     AutoModelForSequenceClassification\n",
    "# )\n",
    "\n",
    "# import importlib.util\n",
    "\n",
    "# def is_tf_available():\n",
    "#     return importlib.util.find_spec(\"tensorflow\") is not None\n",
    "\n",
    "# def is_torch_available():\n",
    "#     return importlib.util.find_spec(\"torch\") is not None"
   ]
  },
  {
   "cell_type": "code",
   "execution_count": null,
   "id": "shared-wages",
   "metadata": {},
   "outputs": [],
   "source": [
    "# config = {\n",
    "#     \"sentiment-analysis\":{\n",
    "#         \"impl\": TextClassificationPipeline,\n",
    "#         \"tf\": TFAutoModelForSequenceClassification  if is_tf_available() else None,\n",
    "#         \"pt\": AutoModelForSequenceClassification if is_torch_available() else None,\n",
    "#         \"default\": {\n",
    "#             \"model\": {\n",
    "#                 \"pt\": \"distilbert-base-uncased-finetuned-sst-2-english\",\n",
    "#                 \"tf\": \"distilbert-base-uncased-finetuned-sst-2-english\"\n",
    "#             }\n",
    "#         }\n",
    "#     }\n",
    "# }"
   ]
  },
  {
   "cell_type": "markdown",
   "id": "appreciated-appliance",
   "metadata": {},
   "source": [
    "### Get huggling face models at\n",
    "\n",
    "#### https://huggingface.co/models?filter=en&pipeline_tag=text-classification&sort=downloads"
   ]
  },
  {
   "cell_type": "code",
   "execution_count": 9,
   "id": "honey-compiler",
   "metadata": {},
   "outputs": [],
   "source": [
    "sentences = [\n",
    "    \"I really don't like what you did\",\n",
    "    \"I really like what you did\",\n",
    "    \"This is good\",\n",
    "    \"This is ugly, really bad\",\n",
    "    \"This is not too bad\"\n",
    "]"
   ]
  },
  {
   "cell_type": "code",
   "execution_count": 11,
   "id": "nutritional-deposit",
   "metadata": {},
   "outputs": [
    {
     "name": "stderr",
     "output_type": "stream",
     "text": [
      "Some weights of the model checkpoint at VictorSanh/roberta-base-finetuned-yelp-polarity were not used when initializing RobertaForSequenceClassification: ['roberta.pooler.dense.weight', 'roberta.pooler.dense.bias']\n",
      "- This IS expected if you are initializing RobertaForSequenceClassification from the checkpoint of a model trained on another task or with another architecture (e.g. initializing a BertForSequenceClassification model from a BertForPreTraining model).\n",
      "- This IS NOT expected if you are initializing RobertaForSequenceClassification from the checkpoint of a model that you expect to be exactly identical (initializing a BertForSequenceClassification model from a BertForSequenceClassification model).\n"
     ]
    },
    {
     "name": "stdout",
     "output_type": "stream",
     "text": [
      "I really don't like what you did, sentiment: LABEL_0\n",
      "I really like what you did, sentiment: LABEL_1\n",
      "This is good, sentiment: LABEL_1\n",
      "This is ugly, really bad, sentiment: LABEL_0\n",
      "This is not too bad, sentiment: LABEL_1\n"
     ]
    }
   ],
   "source": [
    "from transformers import pipeline\n",
    "\n",
    "# sentimentanalyzer = pipeline(\"sentiment-analysis\", model='roberta-large-mnli')\n",
    "sentimentanalyzer = pipeline(\"sentiment-analysis\", model='VictorSanh/roberta-base-finetuned-yelp-polarity')\n",
    "\n",
    "for sentence in sentences:\n",
    "    result = sentimentanalyzer(sentence)[0]\n",
    "    print(f\"{sentence}, sentiment: {result['label']}\")\n"
   ]
  },
  {
   "cell_type": "code",
   "execution_count": 12,
   "id": "talented-london",
   "metadata": {},
   "outputs": [
    {
     "name": "stdout",
     "output_type": "stream",
     "text": [
      "I really don't like what you did, sentiment: NEGATIVE\n",
      "I really like what you did, sentiment: POSITIVE\n",
      "This is good, sentiment: POSITIVE\n",
      "This is ugly, really bad, sentiment: NEGATIVE\n",
      "This is not too bad, sentiment: POSITIVE\n"
     ]
    }
   ],
   "source": [
    "sentimentanalyzer = pipeline(\"sentiment-analysis\", model='distilbert-base-uncased-finetuned-sst-2-english')\n",
    "\n",
    "for sentence in sentences:\n",
    "    result = sentimentanalyzer(sentence)[0]\n",
    "    print(f\"{sentence}, sentiment: {result['label']}\")\n"
   ]
  },
  {
   "cell_type": "code",
   "execution_count": 13,
   "id": "governmental-departure",
   "metadata": {},
   "outputs": [
    {
     "data": {
      "application/vnd.jupyter.widget-view+json": {
       "model_id": "362a04910fe84a35ab37436225c50479",
       "version_major": 2,
       "version_minor": 0
      },
      "text/plain": [
       "Downloading:   0%|          | 0.00/758 [00:00<?, ?B/s]"
      ]
     },
     "metadata": {},
     "output_type": "display_data"
    },
    {
     "data": {
      "application/vnd.jupyter.widget-view+json": {
       "model_id": "c79e9229d2fd478f9d247188023ac2c3",
       "version_major": 2,
       "version_minor": 0
      },
      "text/plain": [
       "Downloading:   0%|          | 0.00/438M [00:00<?, ?B/s]"
      ]
     },
     "metadata": {},
     "output_type": "display_data"
    },
    {
     "data": {
      "application/vnd.jupyter.widget-view+json": {
       "model_id": "fc604e9d889448da8c7cedece396da26",
       "version_major": 2,
       "version_minor": 0
      },
      "text/plain": [
       "Downloading:   0%|          | 0.00/232k [00:00<?, ?B/s]"
      ]
     },
     "metadata": {},
     "output_type": "display_data"
    },
    {
     "data": {
      "application/vnd.jupyter.widget-view+json": {
       "model_id": "ce66a82e4c11470485857fa31614ec80",
       "version_major": 2,
       "version_minor": 0
      },
      "text/plain": [
       "Downloading:   0%|          | 0.00/112 [00:00<?, ?B/s]"
      ]
     },
     "metadata": {},
     "output_type": "display_data"
    },
    {
     "data": {
      "application/vnd.jupyter.widget-view+json": {
       "model_id": "d7265aa3e0f948f6bf8982502080dccd",
       "version_major": 2,
       "version_minor": 0
      },
      "text/plain": [
       "Downloading:   0%|          | 0.00/252 [00:00<?, ?B/s]"
      ]
     },
     "metadata": {},
     "output_type": "display_data"
    },
    {
     "name": "stdout",
     "output_type": "stream",
     "text": [
      "I really don't like what you did, sentiment: negative\n",
      "I really like what you did, sentiment: neutral\n",
      "This is good, sentiment: neutral\n",
      "This is ugly, really bad, sentiment: negative\n",
      "This is not too bad, sentiment: neutral\n"
     ]
    }
   ],
   "source": [
    "sentimentanalyzer = pipeline(\"sentiment-analysis\", model='ProsusAI/finbert')\n",
    "\n",
    "for sentence in sentences:\n",
    "    result = sentimentanalyzer(sentence)[0]\n",
    "    print(f\"{sentence}, sentiment: {result['label']}\")\n"
   ]
  },
  {
   "cell_type": "code",
   "execution_count": 14,
   "id": "pleased-fraction",
   "metadata": {},
   "outputs": [
    {
     "data": {
      "application/vnd.jupyter.widget-view+json": {
       "model_id": "8339920faad542dd91b0aa91f49923fe",
       "version_major": 2,
       "version_minor": 0
      },
      "text/plain": [
       "Downloading:   0%|          | 0.00/729 [00:00<?, ?B/s]"
      ]
     },
     "metadata": {},
     "output_type": "display_data"
    },
    {
     "data": {
      "application/vnd.jupyter.widget-view+json": {
       "model_id": "97649146e2324a789ed37e3eaa231566",
       "version_major": 2,
       "version_minor": 0
      },
      "text/plain": [
       "Downloading:   0%|          | 0.00/1.62G [00:00<?, ?B/s]"
      ]
     },
     "metadata": {},
     "output_type": "display_data"
    },
    {
     "data": {
      "application/vnd.jupyter.widget-view+json": {
       "model_id": "c1a27d621b654d29bfb1c679477a64e5",
       "version_major": 2,
       "version_minor": 0
      },
      "text/plain": [
       "Downloading:   0%|          | 0.00/3.92M [00:00<?, ?B/s]"
      ]
     },
     "metadata": {},
     "output_type": "display_data"
    },
    {
     "data": {
      "application/vnd.jupyter.widget-view+json": {
       "model_id": "01483272b40446049465e463b43eaf35",
       "version_major": 2,
       "version_minor": 0
      },
      "text/plain": [
       "Downloading:   0%|          | 0.00/52.0 [00:00<?, ?B/s]"
      ]
     },
     "metadata": {},
     "output_type": "display_data"
    },
    {
     "name": "stderr",
     "output_type": "stream",
     "text": [
      "Some weights of the model checkpoint at microsoft/deberta-large-mnli were not used when initializing DebertaForSequenceClassification: ['config']\n",
      "- This IS expected if you are initializing DebertaForSequenceClassification from the checkpoint of a model trained on another task or with another architecture (e.g. initializing a BertForSequenceClassification model from a BertForPreTraining model).\n",
      "- This IS NOT expected if you are initializing DebertaForSequenceClassification from the checkpoint of a model that you expect to be exactly identical (initializing a BertForSequenceClassification model from a BertForSequenceClassification model).\n"
     ]
    },
    {
     "name": "stdout",
     "output_type": "stream",
     "text": [
      "I really don't like what you did, sentiment: NEUTRAL\n",
      "I really like what you did, sentiment: NEUTRAL\n",
      "This is good, sentiment: NEUTRAL\n",
      "This is ugly, really bad, sentiment: NEUTRAL\n",
      "This is not too bad, sentiment: NEUTRAL\n"
     ]
    }
   ],
   "source": [
    "sentimentanalyzer = pipeline(\"sentiment-analysis\", model='microsoft/deberta-large-mnli')\n",
    "\n",
    "for sentence in sentences:\n",
    "    result = sentimentanalyzer(sentence)[0]\n",
    "    print(f\"{sentence}, sentiment: {result['label']}\")\n"
   ]
  },
  {
   "cell_type": "code",
   "execution_count": 18,
   "id": "harmful-cemetery",
   "metadata": {},
   "outputs": [
    {
     "data": {
      "application/vnd.jupyter.widget-view+json": {
       "model_id": "1fe24caeae024872bda3c24866edebf3",
       "version_major": 2,
       "version_minor": 0
      },
      "text/plain": [
       "Downloading:   0%|          | 0.00/442 [00:00<?, ?B/s]"
      ]
     },
     "metadata": {},
     "output_type": "display_data"
    },
    {
     "data": {
      "application/vnd.jupyter.widget-view+json": {
       "model_id": "51122b88b3594c148837a6efe3390999",
       "version_major": 2,
       "version_minor": 0
      },
      "text/plain": [
       "Downloading:   0%|          | 0.00/268M [00:00<?, ?B/s]"
      ]
     },
     "metadata": {},
     "output_type": "display_data"
    },
    {
     "name": "stderr",
     "output_type": "stream",
     "text": [
      "Some weights of the model checkpoint at distilbert-base-uncased were not used when initializing DistilBertForSequenceClassification: ['vocab_transform.weight', 'vocab_transform.bias', 'vocab_layer_norm.weight', 'vocab_layer_norm.bias', 'vocab_projector.weight', 'vocab_projector.bias']\n",
      "- This IS expected if you are initializing DistilBertForSequenceClassification from the checkpoint of a model trained on another task or with another architecture (e.g. initializing a BertForSequenceClassification model from a BertForPreTraining model).\n",
      "- This IS NOT expected if you are initializing DistilBertForSequenceClassification from the checkpoint of a model that you expect to be exactly identical (initializing a BertForSequenceClassification model from a BertForSequenceClassification model).\n",
      "Some weights of DistilBertForSequenceClassification were not initialized from the model checkpoint at distilbert-base-uncased and are newly initialized: ['pre_classifier.weight', 'pre_classifier.bias', 'classifier.weight', 'classifier.bias']\n",
      "You should probably TRAIN this model on a down-stream task to be able to use it for predictions and inference.\n"
     ]
    },
    {
     "name": "stdout",
     "output_type": "stream",
     "text": [
      "I really don't like what you did, sentiment: LABEL_1\n",
      "I really like what you did, sentiment: LABEL_1\n",
      "This is good, sentiment: LABEL_0\n",
      "This is ugly, really bad, sentiment: LABEL_1\n",
      "This is not too bad, sentiment: LABEL_1\n"
     ]
    }
   ],
   "source": [
    "sentimentanalyzer = pipeline(\"sentiment-analysis\", model='distilbert-base-uncased')\n",
    "\n",
    "for sentence in sentences:\n",
    "    result = sentimentanalyzer(sentence)[0]\n",
    "    print(f\"{sentence}, sentiment: {result['label']}\")\n"
   ]
  },
  {
   "cell_type": "code",
   "execution_count": 19,
   "id": "bearing-printer",
   "metadata": {},
   "outputs": [
    {
     "data": {
      "application/vnd.jupyter.widget-view+json": {
       "model_id": "fd1e217d8b19417e9c1ff77712a45b23",
       "version_major": 2,
       "version_minor": 0
      },
      "text/plain": [
       "Downloading:   0%|          | 0.00/953 [00:00<?, ?B/s]"
      ]
     },
     "metadata": {},
     "output_type": "display_data"
    },
    {
     "data": {
      "application/vnd.jupyter.widget-view+json": {
       "model_id": "19d714cec2b540b6bf6faaa515a7c3bd",
       "version_major": 2,
       "version_minor": 0
      },
      "text/plain": [
       "Downloading:   0%|          | 0.00/669M [00:00<?, ?B/s]"
      ]
     },
     "metadata": {},
     "output_type": "display_data"
    },
    {
     "data": {
      "application/vnd.jupyter.widget-view+json": {
       "model_id": "cebf731a01064019a8ccb41660578e6f",
       "version_major": 2,
       "version_minor": 0
      },
      "text/plain": [
       "Downloading:   0%|          | 0.00/872k [00:00<?, ?B/s]"
      ]
     },
     "metadata": {},
     "output_type": "display_data"
    },
    {
     "data": {
      "application/vnd.jupyter.widget-view+json": {
       "model_id": "5590e76a47e24da9bfd97d24604e858b",
       "version_major": 2,
       "version_minor": 0
      },
      "text/plain": [
       "Downloading:   0%|          | 0.00/112 [00:00<?, ?B/s]"
      ]
     },
     "metadata": {},
     "output_type": "display_data"
    },
    {
     "data": {
      "application/vnd.jupyter.widget-view+json": {
       "model_id": "369a6142090a4acda3604ddeb2d3a175",
       "version_major": 2,
       "version_minor": 0
      },
      "text/plain": [
       "Downloading:   0%|          | 0.00/39.0 [00:00<?, ?B/s]"
      ]
     },
     "metadata": {},
     "output_type": "display_data"
    },
    {
     "name": "stdout",
     "output_type": "stream",
     "text": [
      "I really don't like what you did, sentiment: 2 stars\n",
      "I really like what you did, sentiment: 5 stars\n",
      "This is good, sentiment: 4 stars\n",
      "This is ugly, really bad, sentiment: 1 star\n",
      "This is not too bad, sentiment: 4 stars\n"
     ]
    }
   ],
   "source": [
    "sentimentanalyzer = pipeline(\"sentiment-analysis\", model='nlptown/bert-base-multilingual-uncased-sentiment')\n",
    "\n",
    "for sentence in sentences:\n",
    "    result = sentimentanalyzer(sentence)[0]\n",
    "    print(f\"{sentence}, sentiment: {result['label']}\")\n"
   ]
  },
  {
   "cell_type": "code",
   "execution_count": 20,
   "id": "faced-google",
   "metadata": {},
   "outputs": [],
   "source": [
    "import re"
   ]
  },
  {
   "cell_type": "code",
   "execution_count": 32,
   "id": "grave-spare",
   "metadata": {},
   "outputs": [
    {
     "name": "stdout",
     "output_type": "stream",
     "text": [
      "positive\n"
     ]
    }
   ],
   "source": [
    "D = {\"1\": \"negative\", \"2\": \"negative\", \"3\": \"neutral\", \"4\": \"positive\", \"5\": \"positive\"}\n",
    "label = \"5 stars\"\n",
    "if re.search(\"star\", label):\n",
    "    value = re.sub(\"(\\\\d) (.*)\", \"\\\\1\", label)\n",
    "    print(D[value])"
   ]
  },
  {
   "cell_type": "code",
   "execution_count": null,
   "id": "spectacular-correspondence",
   "metadata": {},
   "outputs": [],
   "source": []
  }
 ],
 "metadata": {
  "kernelspec": {
   "display_name": "Python 3.7.6 (sentiment_env)",
   "language": "python",
   "name": "sentiment_env"
  },
  "language_info": {
   "codemirror_mode": {
    "name": "ipython",
    "version": 3
   },
   "file_extension": ".py",
   "mimetype": "text/x-python",
   "name": "python",
   "nbconvert_exporter": "python",
   "pygments_lexer": "ipython3",
   "version": "3.7.6"
  }
 },
 "nbformat": 4,
 "nbformat_minor": 5
}
