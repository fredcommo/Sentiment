{
 "cells": [
  {
   "cell_type": "markdown",
   "id": "loose-package",
   "metadata": {},
   "source": [
    "## Compare weighted vote to (naive) majority vote"
   ]
  },
  {
   "cell_type": "code",
   "execution_count": 9,
   "id": "productive-warrant",
   "metadata": {},
   "outputs": [],
   "source": [
    "import os\n",
    "import sys\n",
    "curr_dir = os.getcwd()\n",
    "sys.path.append(os.path.dirname(curr_dir))\n",
    "\n",
    "import pandas as pd\n",
    "import numpy as np\n",
    "import logging\n",
    "# from sentiment.logger import logger_init\n",
    "\n",
    "from sentiment.models.sentiment_models import Sentiment_models\n"
   ]
  },
  {
   "cell_type": "code",
   "execution_count": null,
   "id": "significant-illinois",
   "metadata": {},
   "outputs": [],
   "source": [
    "# Read file\n",
    "filepath = os.path.dirname(curr_dir)\n",
    "filename = \"data/sentiment140.csv\"\n",
    "df = pd.read_csv(os.path.join(filepath, filename), error_bad_lines=False, sep=';')\n",
    "\n",
    "# Get verbatims\n",
    "verbatims = df.text.to_list()"
   ]
  },
  {
   "cell_type": "code",
   "execution_count": 11,
   "id": "recovered-tongue",
   "metadata": {},
   "outputs": [
    {
     "name": "stderr",
     "output_type": "stream",
     "text": [
      "Some weights of the model checkpoint at VictorSanh/roberta-base-finetuned-yelp-polarity were not used when initializing RobertaForSequenceClassification: ['roberta.pooler.dense.weight', 'roberta.pooler.dense.bias']\n",
      "- This IS expected if you are initializing RobertaForSequenceClassification from the checkpoint of a model trained on another task or with another architecture (e.g. initializing a BertForSequenceClassification model from a BertForPreTraining model).\n",
      "- This IS NOT expected if you are initializing RobertaForSequenceClassification from the checkpoint of a model that you expect to be exactly identical (initializing a BertForSequenceClassification model from a BertForSequenceClassification model).\n",
      "/mnt/c/Users/fcommo/Documents/Travaux_perso/Python/NLP/Sentiment/sentiment/models/sentiment_models.py:233: SettingWithCopyWarning: \n",
      "A value is trying to be set on a copy of a slice from a DataFrame.\n",
      "Try using .loc[row_indexer,col_indexer] = value instead\n",
      "\n",
      "See the caveats in the documentation: https://pandas.pydata.org/pandas-docs/stable/user_guide/indexing.html#returning-a-view-versus-a-copy\n",
      "  sentiments['majority vote'] = sentiments.apply(self.sentiment_vote, axis=1)\n"
     ]
    }
   ],
   "source": [
    "# Run predictions\n",
    "S = Sentiment_models(verbatims)\n",
    "sentiments, scores = S.get_predictions()"
   ]
  },
  {
   "cell_type": "code",
   "execution_count": 48,
   "id": "digital-return",
   "metadata": {},
   "outputs": [],
   "source": [
    "from sklearn.linear_model import LogisticRegression\n",
    "from sklearn import preprocessing\n",
    "from sklearn.model_selection import train_test_split\n",
    "from sklearn.metrics import f1_score"
   ]
  },
  {
   "cell_type": "code",
   "execution_count": 45,
   "id": "accurate-content",
   "metadata": {},
   "outputs": [],
   "source": [
    "def accuracy(observed, fitted):\n",
    "    return np.mean(observed == fitted)"
   ]
  },
  {
   "cell_type": "code",
   "execution_count": 20,
   "id": "equal-symphony",
   "metadata": {},
   "outputs": [
    {
     "data": {
      "text/plain": [
       "0      positive\n",
       "1      positive\n",
       "2      positive\n",
       "3      positive\n",
       "4      positive\n",
       "         ...   \n",
       "492     neutral\n",
       "493    negative\n",
       "494    positive\n",
       "495    negative\n",
       "496    negative\n",
       "Name: label, Length: 497, dtype: object"
      ]
     },
     "execution_count": 20,
     "metadata": {},
     "output_type": "execute_result"
    }
   ],
   "source": [
    "labels = df['label']\n",
    "features = sentiments.iloc[:,:-1]\n",
    "\n",
    "# 1. INSTANTIATE\n",
    "encoder = preprocessing.OneHotEncoder()\n",
    "\n",
    "# 2. FIT\n",
    "encoder.fit(features)\n",
    "\n",
    "# 3. Transform\n",
    "onehotlabels = encoder.transform(features).toarray()"
   ]
  },
  {
   "cell_type": "code",
   "execution_count": 66,
   "id": "forty-store",
   "metadata": {},
   "outputs": [
    {
     "data": {
      "text/plain": [
       "{'negative': array([ 0.07116554, -0.19015075,  0.11877124,  0.21139105, -0.21160502,\n",
       "         0.14969629, -0.14991027,  0.56346838, -0.56368235,  1.16279359,\n",
       "        -0.69215589, -0.47085168, -0.12948429,  0.11529424,  0.01397608]),\n",
       " 'neutral': array([-0.15416869,  0.43141089, -0.27741573,  0.0323404 , -0.03251393,\n",
       "         0.09396026, -0.09413379, -0.16849479,  0.16832126, -0.8373659 ,\n",
       "         1.32200653, -0.48481415, -0.0331421 ,  0.25113992, -0.21817135]),\n",
       " 'positive': array([ 0.08300315, -0.24126014,  0.15864449, -0.24373146,  0.24411895,\n",
       "        -0.24365655,  0.24404405, -0.39497359,  0.39536109, -0.32542769,\n",
       "        -0.62985064,  0.95566583,  0.16262639, -0.36643416,  0.20419527])}"
      ]
     },
     "execution_count": 66,
     "metadata": {},
     "output_type": "execute_result"
    }
   ],
   "source": [
    "# Split in train/test sets\n",
    "X_train, X_test, y_train, y_test = train_test_split(onehotlabels, labels, test_size=0.33, random_state=42)\n",
    "\n",
    "# Train\n",
    "clf = LogisticRegression(random_state=0).fit(X_train, y_train)\n",
    "\n",
    "# Predict\n",
    "weighted_predictions = clf.predict(X_test)\n",
    "\n",
    "# Get model weights\n",
    "D = dict(zip(clf.classes_, clf.coef_))\n",
    "D"
   ]
  },
  {
   "cell_type": "code",
   "execution_count": 85,
   "id": "criminal-battery",
   "metadata": {},
   "outputs": [
    {
     "data": {
      "text/plain": [
       "array([[ 0.07116554, -0.19015075,  0.11877124],\n",
       "       [ 0.21139105, -0.21160502,  0.14969629],\n",
       "       [-0.14991027,  0.56346838, -0.56368235],\n",
       "       [ 1.16279359, -0.69215589, -0.47085168],\n",
       "       [-0.12948429,  0.11529424,  0.01397608],\n",
       "       [-0.15416869,  0.43141089, -0.27741573],\n",
       "       [ 0.0323404 , -0.03251393,  0.09396026],\n",
       "       [-0.09413379, -0.16849479,  0.16832126],\n",
       "       [-0.8373659 ,  1.32200653, -0.48481415],\n",
       "       [-0.0331421 ,  0.25113992, -0.21817135],\n",
       "       [ 0.08300315, -0.24126014,  0.15864449],\n",
       "       [-0.24373146,  0.24411895, -0.24365655],\n",
       "       [ 0.24404405, -0.39497359,  0.39536109],\n",
       "       [-0.32542769, -0.62985064,  0.95566583],\n",
       "       [ 0.16262639, -0.36643416,  0.20419527]])"
      ]
     },
     "execution_count": 85,
     "metadata": {},
     "output_type": "execute_result"
    }
   ],
   "source": [
    "clf.coef_.reshape(-1, 3)"
   ]
  },
  {
   "cell_type": "code",
   "execution_count": 82,
   "id": "quiet-maldives",
   "metadata": {},
   "outputs": [
    {
     "data": {
      "image/png": "[encoded data removed]",
      "text/plain": [
       "<Figure size 432x288 with 1 Axes>"
      ]
     },
     "metadata": {
      "needs_background": "light"
     },
     "output_type": "display_data"
    },
    {
     "name": "stdout",
     "output_type": "stream",
     "text": [
      "['textblob_label_negative', 'textblob_label_neutral', 'textblob_label_positive']\n",
      "['flair_label_negative', 'flair_label_positive']\n",
      "['distilbert_label_negative', 'distilbert_label_positive']\n",
      "['roberta_label_negative', 'roberta_label_positive']\n",
      "['twitter_label_negative', 'twitter_label_neutral', 'twitter_label_positive']\n",
      "['bert_label_negative', 'bert_label_neutral', 'bert_label_positive']\n"
     ]
    }
   ],
   "source": [
    "import matplotlib.pyplot as plt\n",
    "\n",
    "for k, v in D.items():\n",
    "    plt.plot(v)\n",
    "    \n",
    "plt.legend(D.keys())\n",
    "plt.show()\n",
    "\n",
    "Z = zip(features.columns, encoder.categories_)\n",
    "for z in Z:\n",
    "    print([f\"{z[0]}_{z1}\" for z1 in z[1]])"
   ]
  },
  {
   "cell_type": "code",
   "execution_count": 56,
   "id": "incorporated-senator",
   "metadata": {},
   "outputs": [
    {
     "name": "stdout",
     "output_type": "stream",
     "text": [
      "0.793939393939394\n",
      "[0.82222222 0.73469388 0.81690141]\n"
     ]
    },
    {
     "data": {
      "text/html": [
       "<div>\n",
       "<style scoped>\n",
       "    .dataframe tbody tr th:only-of-type {\n",
       "        vertical-align: middle;\n",
       "    }\n",
       "\n",
       "    .dataframe tbody tr th {\n",
       "        vertical-align: top;\n",
       "    }\n",
       "\n",
       "    .dataframe thead th {\n",
       "        text-align: right;\n",
       "    }\n",
       "</style>\n",
       "<table border=\"1\" class=\"dataframe\">\n",
       "  <thead>\n",
       "    <tr style=\"text-align: right;\">\n",
       "      <th>Truth</th>\n",
       "      <th>negative</th>\n",
       "      <th>neutral</th>\n",
       "      <th>positive</th>\n",
       "    </tr>\n",
       "    <tr>\n",
       "      <th>Predicted</th>\n",
       "      <th></th>\n",
       "      <th></th>\n",
       "      <th></th>\n",
       "    </tr>\n",
       "  </thead>\n",
       "  <tbody>\n",
       "    <tr>\n",
       "      <th>negative</th>\n",
       "      <td>37</td>\n",
       "      <td>4</td>\n",
       "      <td>2</td>\n",
       "    </tr>\n",
       "    <tr>\n",
       "      <th>neutral</th>\n",
       "      <td>4</td>\n",
       "      <td>36</td>\n",
       "      <td>9</td>\n",
       "    </tr>\n",
       "    <tr>\n",
       "      <th>positive</th>\n",
       "      <td>6</td>\n",
       "      <td>9</td>\n",
       "      <td>58</td>\n",
       "    </tr>\n",
       "  </tbody>\n",
       "</table>\n",
       "</div>"
      ],
      "text/plain": [
       "Truth      negative  neutral  positive\n",
       "Predicted                             \n",
       "negative         37        4         2\n",
       "neutral           4       36         9\n",
       "positive          6        9        58"
      ]
     },
     "execution_count": 56,
     "metadata": {},
     "output_type": "execute_result"
    }
   ],
   "source": [
    "# Show weighted vote results\n",
    "print(accuracy(weighted_predictions, y_test))\n",
    "print(f1_score(weighted_predictions, y_test, average=None))\n",
    "\n",
    "pd.crosstab(weighted_predictions, y_test, rownames=['Predicted'], colnames=['Truth'])"
   ]
  },
  {
   "cell_type": "code",
   "execution_count": 57,
   "id": "least-knitting",
   "metadata": {},
   "outputs": [
    {
     "name": "stdout",
     "output_type": "stream",
     "text": [
      "0.7151515151515152\n",
      "[0.71153846 0.53846154 0.81081081]\n"
     ]
    },
    {
     "data": {
      "text/html": [
       "<div>\n",
       "<style scoped>\n",
       "    .dataframe tbody tr th:only-of-type {\n",
       "        vertical-align: middle;\n",
       "    }\n",
       "\n",
       "    .dataframe tbody tr th {\n",
       "        vertical-align: top;\n",
       "    }\n",
       "\n",
       "    .dataframe thead th {\n",
       "        text-align: right;\n",
       "    }\n",
       "</style>\n",
       "<table border=\"1\" class=\"dataframe\">\n",
       "  <thead>\n",
       "    <tr style=\"text-align: right;\">\n",
       "      <th>Truth</th>\n",
       "      <th>negative</th>\n",
       "      <th>neutral</th>\n",
       "      <th>positive</th>\n",
       "    </tr>\n",
       "    <tr>\n",
       "      <th>Predicted</th>\n",
       "      <th></th>\n",
       "      <th></th>\n",
       "      <th></th>\n",
       "    </tr>\n",
       "  </thead>\n",
       "  <tbody>\n",
       "    <tr>\n",
       "      <th>negative</th>\n",
       "      <td>37</td>\n",
       "      <td>15</td>\n",
       "      <td>5</td>\n",
       "    </tr>\n",
       "    <tr>\n",
       "      <th>neutral</th>\n",
       "      <td>4</td>\n",
       "      <td>21</td>\n",
       "      <td>4</td>\n",
       "    </tr>\n",
       "    <tr>\n",
       "      <th>positive</th>\n",
       "      <td>6</td>\n",
       "      <td>13</td>\n",
       "      <td>60</td>\n",
       "    </tr>\n",
       "  </tbody>\n",
       "</table>\n",
       "</div>"
      ],
      "text/plain": [
       "Truth      negative  neutral  positive\n",
       "Predicted                             \n",
       "negative         37       15         5\n",
       "neutral           4       21         4\n",
       "positive          6       13        60"
      ]
     },
     "execution_count": 57,
     "metadata": {},
     "output_type": "execute_result"
    }
   ],
   "source": [
    "# Show majority vote results\n",
    "\n",
    "maj_vote = sentiments['majority vote']\n",
    "\n",
    "print(accuracy(maj_vote[y_test.index], y_test))\n",
    "print(f1_score(maj_vote[y_test.index], y_test, average=None))\n",
    "\n",
    "pd.crosstab(maj_vote[y_test.index], y_test, rownames=['Predicted'], colnames=['Truth'])\n"
   ]
  },
  {
   "cell_type": "code",
   "execution_count": null,
   "id": "aging-mumbai",
   "metadata": {},
   "outputs": [],
   "source": []
  }
 ],
 "metadata": {
  "kernelspec": {
   "display_name": "Python 3.7.6 (sentiment_env)",
   "language": "python",
   "name": "sentiment_env"
  },
  "language_info": {
   "codemirror_mode": {
    "name": "ipython",
    "version": 3
   },
   "file_extension": ".py",
   "mimetype": "text/x-python",
   "name": "python",
   "nbconvert_exporter": "python",
   "pygments_lexer": "ipython3",
   "version": "3.7.6"
  }
 },
 "nbformat": 4,
 "nbformat_minor": 5
}
