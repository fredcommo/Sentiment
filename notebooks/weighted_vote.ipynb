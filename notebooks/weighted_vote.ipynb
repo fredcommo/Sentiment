{
 "cells": [
  {
   "cell_type": "markdown",
   "id": "loose-package",
   "metadata": {},
   "source": [
    "## Compare weighted vote to (naive) majority vote"
   ]
  },
  {
   "cell_type": "code",
   "execution_count": 1,
   "id": "productive-warrant",
   "metadata": {},
   "outputs": [
    {
     "name": "stdout",
     "output_type": "stream",
     "text": [
      "2021-12-07 08:28:53,194 loading file /home/fcommo/.flair/models/sentiment-en-mix-distillbert_4.pt\n"
     ]
    },
    {
     "name": "stderr",
     "output_type": "stream",
     "text": [
      "[nltk_data] Downloading package vader_lexicon to\n",
      "[nltk_data]     /home/fcommo/nltk_data...\n",
      "[nltk_data]   Package vader_lexicon is already up-to-date!\n"
     ]
    }
   ],
   "source": [
    "import os\n",
    "import sys\n",
    "curr_dir = os.getcwd()\n",
    "sys.path.append(os.path.dirname(curr_dir))\n",
    "\n",
    "import pandas as pd\n",
    "import numpy as np\n",
    "import logging\n",
    "# from sentiment.logger import logger_init\n",
    "\n",
    "from sentiment.models.sentiment_analysis import Sentiments\n"
   ]
  },
  {
   "cell_type": "code",
   "execution_count": 2,
   "id": "significant-illinois",
   "metadata": {},
   "outputs": [],
   "source": [
    "# Read file\n",
    "filepath = os.path.dirname(curr_dir)\n",
    "filename = \"data/sentiment140.csv\"\n",
    "df = pd.read_csv(os.path.join(filepath, filename), error_bad_lines=False, sep=';')\n",
    "\n",
    "# Get verbatims\n",
    "verbatims = df.text.to_list()"
   ]
  },
  {
   "cell_type": "code",
   "execution_count": 38,
   "id": "tamil-civilization",
   "metadata": {},
   "outputs": [
    {
     "data": {
      "text/plain": [
       "'/mnt/c/Users/fcommo/Documents/Travaux_perso/Python/NLP/Sentiment/notebooks'"
      ]
     },
     "execution_count": 38,
     "metadata": {},
     "output_type": "execute_result"
    }
   ],
   "source": [
    "os.getcwd()"
   ]
  },
  {
   "cell_type": "code",
   "execution_count": 3,
   "id": "recovered-tongue",
   "metadata": {},
   "outputs": [
    {
     "name": "stderr",
     "output_type": "stream",
     "text": [
      "Some weights of the model checkpoint at VictorSanh/roberta-base-finetuned-yelp-polarity were not used when initializing RobertaForSequenceClassification: ['roberta.pooler.dense.weight', 'roberta.pooler.dense.bias']\n",
      "- This IS expected if you are initializing RobertaForSequenceClassification from the checkpoint of a model trained on another task or with another architecture (e.g. initializing a BertForSequenceClassification model from a BertForPreTraining model).\n",
      "- This IS NOT expected if you are initializing RobertaForSequenceClassification from the checkpoint of a model that you expect to be exactly identical (initializing a BertForSequenceClassification model from a BertForSequenceClassification model).\n",
      "/mnt/c/Users/fcommo/Documents/Travaux_perso/Python/NLP/Sentiment/sentiment/models/sentiment_analysis.py:233: SettingWithCopyWarning: \n",
      "A value is trying to be set on a copy of a slice from a DataFrame.\n",
      "Try using .loc[row_indexer,col_indexer] = value instead\n",
      "\n",
      "See the caveats in the documentation: https://pandas.pydata.org/pandas-docs/stable/user_guide/indexing.html#returning-a-view-versus-a-copy\n",
      "  sentiments['majority vote'] = sentiments.apply(self.sentiment_vote, axis=1)\n"
     ]
    }
   ],
   "source": [
    "# Run predictions\n",
    "S = Sentiments(verbatims)\n",
    "sentiments, scores = S.get_predictions()"
   ]
  },
  {
   "cell_type": "code",
   "execution_count": 4,
   "id": "digital-return",
   "metadata": {},
   "outputs": [],
   "source": [
    "from sklearn.linear_model import LogisticRegression\n",
    "from sklearn import preprocessing\n",
    "from sklearn.model_selection import train_test_split\n",
    "from sklearn.metrics import f1_score"
   ]
  },
  {
   "cell_type": "code",
   "execution_count": 5,
   "id": "accurate-content",
   "metadata": {},
   "outputs": [],
   "source": [
    "def accuracy(observed, fitted):\n",
    "    return np.mean(observed == fitted)"
   ]
  },
  {
   "cell_type": "markdown",
   "id": "adverse-gross",
   "metadata": {},
   "source": [
    "### One-Hot transformation"
   ]
  },
  {
   "cell_type": "code",
   "execution_count": 6,
   "id": "equal-symphony",
   "metadata": {},
   "outputs": [],
   "source": [
    "labels = df['label']\n",
    "features = sentiments.iloc[:,:-1]\n",
    "\n",
    "# 1. INSTANTIATE\n",
    "encoder = preprocessing.OneHotEncoder()\n",
    "\n",
    "# 2. FIT\n",
    "encoder.fit(features)\n",
    "\n",
    "# 3. Transform\n",
    "onehotlabels = encoder.transform(features).toarray()"
   ]
  },
  {
   "cell_type": "markdown",
   "id": "proprietary-vegetation",
   "metadata": {},
   "source": [
    "### Model training"
   ]
  },
  {
   "cell_type": "code",
   "execution_count": 30,
   "id": "forty-store",
   "metadata": {},
   "outputs": [],
   "source": [
    "# Split in train/test sets\n",
    "X_train, X_test, y_train, y_test = train_test_split(onehotlabels, labels, test_size=0.25, random_state=42)\n",
    "\n",
    "# Train\n",
    "clf = LogisticRegression(random_state=0).fit(X_train, y_train)\n",
    "\n",
    "# Predict\n",
    "weighted_predictions = clf.predict(X_test)"
   ]
  },
  {
   "cell_type": "markdown",
   "id": "lined-linux",
   "metadata": {},
   "source": [
    "### Show results"
   ]
  },
  {
   "cell_type": "code",
   "execution_count": 34,
   "id": "least-knitting",
   "metadata": {},
   "outputs": [
    {
     "name": "stdout",
     "output_type": "stream",
     "text": [
      "Majority vote F1-score: negative: 0.70\n",
      "Majority vote F1-score: neutral: 0.55\n",
      "Majority vote F1-score: positive: 0.80\n",
      "Majority vote accuracy: 0.70\n",
      "\n",
      "Weighted vote F1-score: negative: 0.81\n",
      "Weighted vote F1-score: neutral: 0.78\n",
      "Weighted vote F1-score: positive: 0.81\n",
      "Weighted vote accuracy: 0.80\n"
     ]
    }
   ],
   "source": [
    "# Show majority vote results\n",
    "\n",
    "maj_vote = sentiments['majority vote']\n",
    "acc_maj_vote = accuracy(y_test, maj_vote[y_test.index])\n",
    "f1_maj_vote = f1_score(y_test, maj_vote[y_test.index], average=None)\n",
    "\n",
    "for k, v in zip(clf.classes_, f1_maj_vote):\n",
    "    print(\"Majority vote F1-score: {}: {:.2f}\".format(k, v))\n",
    "\n",
    "print(\"Majority vote accuracy: {:.2f}\".format(acc_maj_vote))\n",
    "print()\n",
    "\n",
    "\n",
    "# Show weighted vote results\n",
    "\n",
    "acc_weighted_vote = accuracy(y_test, weighted_predictions)\n",
    "f1_weighted_vote = f1_score(y_test, weighted_predictions, average=None)\n",
    "\n",
    "for k, v in zip(clf.classes_, f1_weighted_vote):\n",
    "    print(\"Weighted vote F1-score: {}: {:.2f}\".format(k, v))\n",
    "\n",
    "print(\"Weighted vote accuracy: {:.2f}\".format(acc_weighted_vote))\n"
   ]
  },
  {
   "cell_type": "code",
   "execution_count": 35,
   "id": "incorporated-senator",
   "metadata": {},
   "outputs": [
    {
     "name": "stdout",
     "output_type": "stream",
     "text": [
      "Majority vote:\n",
      "Truth      negative  neutral  positive\n",
      "Predicted                             \n",
      "negative         29       13         3\n",
      "neutral           3       17         2\n",
      "positive          6       10        42\n",
      "\n",
      "Weighted vote vote:\n",
      "Truth      negative  neutral  positive\n",
      "Predicted                             \n",
      "negative         28        2         1\n",
      "neutral           4       32         6\n",
      "positive          6        6        40\n",
      "\n"
     ]
    }
   ],
   "source": [
    "def cross_tab(predicted, observed, **kwargs):\n",
    "    table = pd.crosstab(predicted, observed, **kwargs)\n",
    "    print(table)\n",
    "    print()\n",
    "\n",
    "print(\"Majority vote:\")\n",
    "cross_tab(maj_vote[y_test.index], y_test, rownames=['Predicted'], colnames=['Truth'])\n",
    "\n",
    "print(\"Weighted vote vote:\")\n",
    "cross_tab(weighted_predictions, y_test, rownames=['Predicted'], colnames=['Truth'])"
   ]
  },
  {
   "cell_type": "markdown",
   "id": "developed-teach",
   "metadata": {},
   "source": [
    "### Save models"
   ]
  },
  {
   "cell_type": "code",
   "execution_count": 36,
   "id": "funny-crystal",
   "metadata": {},
   "outputs": [],
   "source": [
    "import pickle"
   ]
  },
  {
   "cell_type": "code",
   "execution_count": 55,
   "id": "floating-cuisine",
   "metadata": {},
   "outputs": [],
   "source": [
    "path = r\"../sentiment/models/weighted_vote\"\n",
    "\n",
    "# Save One-Hot encoder\n",
    "filename = '/one_hot_encoder.sav'\n",
    "pickle.dump(encoder, open(path + filename, 'wb'))\n",
    "\n",
    "# Save LogReg\n",
    "filename = '/weighted_vote.sav'\n",
    "pickle.dump(clf, open(path + filename, 'wb'))"
   ]
  },
  {
   "cell_type": "code",
   "execution_count": 54,
   "id": "illegal-medicaid",
   "metadata": {},
   "outputs": [
    {
     "data": {
      "text/plain": [
       "'../sentiment/models/weighted_vote.sav'"
      ]
     },
     "execution_count": 54,
     "metadata": {},
     "output_type": "execute_result"
    }
   ],
   "source": [
    "path + filename"
   ]
  },
  {
   "cell_type": "code",
   "execution_count": 9,
   "id": "quiet-maldives",
   "metadata": {},
   "outputs": [
    {
     "data": {
      "image/png": "[encoded data removed]",
      "text/plain": [
       "<Figure size 432x288 with 1 Axes>"
      ]
     },
     "metadata": {
      "needs_background": "light"
     },
     "output_type": "display_data"
    },
    {
     "name": "stdout",
     "output_type": "stream",
     "text": [
      "['textblob_label_negative', 'textblob_label_neutral', 'textblob_label_positive']\n",
      "['flair_label_negative', 'flair_label_positive']\n",
      "['distilbert_label_negative', 'distilbert_label_positive']\n",
      "['roberta_label_negative', 'roberta_label_positive']\n",
      "['twitter_label_negative', 'twitter_label_neutral', 'twitter_label_positive']\n",
      "['bert_label_negative', 'bert_label_neutral', 'bert_label_positive']\n"
     ]
    }
   ],
   "source": [
    "# import matplotlib.pyplot as plt\n",
    "\n",
    "# # Get model weights\n",
    "# D = dict(zip(clf.classes_, clf.coef_))\n",
    "\n",
    "# for k, v in D.items():\n",
    "#     plt.plot(v)\n",
    "    \n",
    "# plt.legend(D.keys())\n",
    "# plt.show()\n",
    "\n",
    "# Z = zip(features.columns, encoder.categories_)\n",
    "# for z in Z:\n",
    "#     print([f\"{z[0]}_{z1}\" for z1 in z[1]])"
   ]
  },
  {
   "cell_type": "code",
   "execution_count": null,
   "id": "aging-mumbai",
   "metadata": {},
   "outputs": [],
   "source": []
  }
 ],
 "metadata": {
  "kernelspec": {
   "display_name": "Python 3.7.6 (sentiment_env)",
   "language": "python",
   "name": "sentiment_env"
  },
  "language_info": {
   "codemirror_mode": {
    "name": "ipython",
    "version": 3
   },
   "file_extension": ".py",
   "mimetype": "text/x-python",
   "name": "python",
   "nbconvert_exporter": "python",
   "pygments_lexer": "ipython3",
   "version": "3.7.6"
  }
 },
 "nbformat": 4,
 "nbformat_minor": 5
}
